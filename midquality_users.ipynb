{
 "cells": [
  {
   "cell_type": "code",
   "execution_count": null,
   "metadata": {},
   "outputs": [],
   "source": [
    "import pandas as pd\n",
    "import numpy as np\n",
    "from sklearn.cluster import KMeans\n",
    "from sklearn.preprocessing import StandardScaler\n",
    "from sklearn.decomposition import PCA\n",
    "from sklearn.metrics import silhouette_score\n",
    "import matplotlib.pyplot as plt\n",
    "from mpl_toolkits.mplot3d import Axes3D\n",
    "from scipy.spatial.distance import pdist, squareform\n",
    "from sklearn.preprocessing import MinMaxScaler\n",
    "import seaborn as sns\n",
    "from vat import VAT"
   ]
  },
  {
   "cell_type": "code",
   "execution_count": null,
   "metadata": {},
   "outputs": [],
   "source": [
    "df = pd.read_csv('lowquality_final_merged.csv')\n",
    "data = df.dropna()\n",
    "data.reset_index(drop=True, inplace=True)\n",
    "\n",
    "# Select relevant features\n",
    "features = data[['User-ID', 'Book-Author-Encode', 'Book-Publisher-Encode', 'Book-Rating']]\n",
    "\n",
    "# Aggregate data to create user profiles\n",
    "user_profiles = features.groupby('User-ID').agg({\n",
    "    'Book-Author-Encode': lambda x: x.mode()[0],  # Most frequent author\n",
    "    'Book-Publisher-Encode': lambda x: x.mode()[0],  # Most frequent publisher\n",
    "    'Book-Rating': 'mean'  # Average rating\n",
    "}).reset_index()"
   ]
  }
 ],
 "metadata": {
  "kernelspec": {
   "display_name": "base",
   "language": "python",
   "name": "python3"
  },
  "language_info": {
   "name": "python",
   "version": "3.11.7"
  }
 },
 "nbformat": 4,
 "nbformat_minor": 2
}

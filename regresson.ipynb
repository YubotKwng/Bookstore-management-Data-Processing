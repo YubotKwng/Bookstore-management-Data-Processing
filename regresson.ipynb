{
 "cells": [
  {
   "cell_type": "code",
   "execution_count": 54,
   "metadata": {},
   "outputs": [],
   "source": [
    "import pandas as pd\n",
    "\n",
    "books_df = pd.read_csv('Book&rating.csv')"
   ]
  },
  {
   "cell_type": "code",
   "execution_count": 55,
   "metadata": {},
   "outputs": [],
   "source": [
    "from sklearn.model_selection import train_test_split\n",
    "from sklearn.linear_model import LinearRegression\n",
    "from sklearn.tree import DecisionTreeRegressor\n",
    "from sklearn.metrics import mean_squared_error, mean_absolute_error, r2_score\n",
    "from sklearn.model_selection import cross_val_score\n",
    "import matplotlib.pyplot as plt"
   ]
  },
  {
   "cell_type": "code",
   "execution_count": 56,
   "metadata": {},
   "outputs": [],
   "source": [
    "subsample_books = books_df.sample(n=20,random_state=42)"
   ]
  },
  {
   "cell_type": "markdown",
   "metadata": {},
   "source": [
    "Make Rating Category"
   ]
  },
  {
   "cell_type": "code",
   "execution_count": null,
   "metadata": {},
   "outputs": [],
   "source": [
    "subsample_books['Rating-Category'] = pd.cut(subsample_books['Book-Rating'], \n",
    "                                    bins=[0, 6, 7, 8, 9,10], \n",
    "                                    labels=[1, 2, 3, 4, 5], \n",
    "                                    right=True)\n",
    "rating_counts = subsample_books['Rating-Category'].value_counts().sort_index()\n",
    "rating_counts.plot(kind='bar')\n",
    "# Set plot title and labels\n",
    "plt.title('Frequency Distribution of Rating categories')\n",
    "plt.xlabel('Rating category')\n",
    "plt.ylabel('Frequency')\n",
    "# Display the plot\n",
    "plt.show()\n",
    "# Display the updated DataFrame\n",
    "print(subsample_books.head())"
   ]
  },
  {
   "cell_type": "markdown",
   "metadata": {},
   "source": [
    "Regresson"
   ]
  },
  {
   "cell_type": "code",
   "execution_count": null,
   "metadata": {},
   "outputs": [],
   "source": [
    "x = subsample_books.drop(columns=['Book-Rating', 'Rating-Category'])\n",
    "y = subsample_books['Book-Rating']\n",
    "\n",
    "x_train, x_test, y_train, y_test = train_test_split(x, y, test_size = 0.2, random_state = 42)\n",
    "\n",
    "linear_reg= LinearRegression()\n",
    "linear_scores = cross_val_score(linear_reg, x, y, cv= 5, scoring= 'neg_mean_squared_error')\n",
    "linear_r2_scores = cross_val_score(linear_reg, x ,y, cv=5, scoring = 'r2')\n",
    "linear_rmse_scores= (-linear_scores)**0.5\n",
    "\n",
    "print('Linear Regression Cross-Validation RMSE Scores:')\n",
    "print(linear_rmse_scores)\n",
    "print('Linear Regression Mean RMSE:', linear_rmse_scores.mean())\n",
    "print('Linear Regression Cross-Validation R^2 Scores:')\n",
    "print(linear_r2_scores)\n",
    "print('Linear Regression Mean R^2:', linear_r2_scores.mean())"
   ]
  },
  {
   "cell_type": "code",
   "execution_count": null,
   "metadata": {},
   "outputs": [],
   "source": [
    "# Initialize Decision Tree Regression model\n",
    "dt_reg= DecisionTreeRegressor(random_state=42)\n",
    "\n",
    "# Cross-validation for Decision Tree Regression\n",
    "dt_scores = cross_val_score(dt_reg, x, y, cv=5,scoring='neg_mean_squared_error')\n",
    "dt_r2_scores =cross_val_score(dt_reg, x, y, cv=5,scoring='r2')\n",
    "dt_rmse_scores =(-dt_scores)**0.5\n",
    "print('Decision Tree Regression Cross-Validation RMsE Scores:')\n",
    "print(dt_rmse_scores)\n",
    "print('Decision Tree Regression Mean RMSE:', dt_rmse_scores.mean())\n",
    "print('Decision Tree Regression Cross-Validation R^2 Scores:')\n",
    "print(dt_r2_scores)\n",
    "print('Decision Tree Regression Mean R^2:', dt_r2_scores.mean())"
   ]
  }
 ],
 "metadata": {
  "kernelspec": {
   "display_name": "Python 3",
   "language": "python",
   "name": "python3"
  },
  "language_info": {
   "codemirror_mode": {
    "name": "ipython",
    "version": 3
   },
   "file_extension": ".py",
   "mimetype": "text/x-python",
   "name": "python",
   "nbconvert_exporter": "python",
   "pygments_lexer": "ipython3",
   "version": "3.11.9"
  }
 },
 "nbformat": 4,
 "nbformat_minor": 2
}

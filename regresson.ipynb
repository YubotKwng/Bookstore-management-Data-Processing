{
 "cells": [
  {
   "cell_type": "markdown",
   "metadata": {},
   "source": [
    "Get data from 'final_merge.csv'\n",
    "\n",
    "Adding 'Rating-Category' column\n",
    "\n",
    "Do linear regresson and decision tree\n",
    "\n",
    "Compare their MSE and R2\n",
    "\n",
    "Then, we got that the MSE and R2 of linear regresson is better then dicision tree"
   ]
  },
  {
   "cell_type": "code",
   "execution_count": 73,
   "metadata": {},
   "outputs": [],
   "source": [
    "import pandas as pd\n",
    "books_df = pd.read_csv('final_merge.csv')"
   ]
  },
  {
   "cell_type": "code",
   "execution_count": 74,
   "metadata": {},
   "outputs": [],
   "source": [
    "# Import all modules needed\n",
    "from sklearn.model_selection import train_test_split\n",
    "from sklearn.linear_model import LinearRegression\n",
    "from sklearn.tree import DecisionTreeRegressor\n",
    "from sklearn.metrics import mean_squared_error, mean_absolute_error, r2_score\n",
    "from sklearn.model_selection import cross_val_score\n",
    "import matplotlib.pyplot as plt"
   ]
  },
  {
   "cell_type": "markdown",
   "metadata": {},
   "source": [
    "Make Rating Category"
   ]
  },
  {
   "cell_type": "code",
   "execution_count": 75,
   "metadata": {},
   "outputs": [
    {
     "data": {
      "image/png": "[encoded data removed]",
      "text/plain": [
       "<Figure size 640x480 with 1 Axes>"
      ]
     },
     "metadata": {},
     "output_type": "display_data"
    },
    {
     "name": "stdout",
     "output_type": "stream",
     "text": [
      "   User-ID        ISBN  Book-Rating                            Book-Title  \\\n",
      "0   276744  038550120X            7                         painted house   \n",
      "1   276754  0684867621            8           girl loved tom gordon novel   \n",
      "2   276755  0451166892            5                          pillar earth   \n",
      "3   276762  0380711524            5                          see jane run   \n",
      "4   276772  0553572369            7  pay dirt mr murphy mystery paperback   \n",
      "\n",
      "      Book-Author  Year-Of-Publication Book-Publisher Year-Of-Publication-Bin  \\\n",
      "0    JOHN GRISHAM                 2001      Doubleday            [2000, 2020)   \n",
      "1    Stephen King                 1999       Scribner            [1980, 2000)   \n",
      "2     Ken Follett                 1996    Signet Book            [1980, 2000)   \n",
      "3    Joy Fielding                 1992           Avon            [1980, 2000)   \n",
      "4  RITA MAE BROWN                 1996         Bantam            [1980, 2000)   \n",
      "\n",
      "   Book-Author-Encode  Book-Publisher-Encode  Year-Of-Publication-Bin-Encode  \\\n",
      "0                2556                    325                               5   \n",
      "1                5762                   1062                               4   \n",
      "2                3501                   1081                               4   \n",
      "3                3234                     94                               4   \n",
      "4                5073                    112                               4   \n",
      "\n",
      "           User-City           User-State User-Country  User-Age User-Age-Bin  \\\n",
      "0           torrance           california          usa        -1       others   \n",
      "1      alberta beach              alberta       canada        19         0~20   \n",
      "2  frankfurt am main               hessen      germany        32        20~40   \n",
      "3           duisburg  nordrhein-westfalen      germany        25        20~40   \n",
      "4               bonn  nordrhein-westfalen      germany        -1       others   \n",
      "\n",
      "   User-City_Encoded  User-State_Encoded  User-Country_Encoded Rating-Category  \n",
      "0               8447                   5                     6               2  \n",
      "1                122                   0                     1               3  \n",
      "2               2849                   9                     2               1  \n",
      "3               2257                  20                     2               1  \n",
      "4                893                  20                     2               2  \n"
     ]
    }
   ],
   "source": [
    "# Categorize rating\n",
    "books_df['Rating-Category'] = pd.cut(books_df['Book-Rating'], \n",
    "                                    bins=[0, 6, 7, 8, 9,10], \n",
    "                                    labels=[1, 2, 3, 4, 5], \n",
    "                                    right=True)\n",
    "rating_counts = books_df['Rating-Category'].value_counts().sort_index()\n",
    "rating_counts.plot(kind='bar')\n",
    "\n",
    "# Set plot title and labels\n",
    "plt.title('Frequency Distribution of Rating categories')\n",
    "plt.xlabel('Rating category')\n",
    "plt.ylabel('Frequency')\n",
    "\n",
    "# Display the plot\n",
    "plt.show()\n",
    "\n",
    "# Display the updated DataFrame\n",
    "print(books_df.head())"
   ]
  },
  {
   "cell_type": "markdown",
   "metadata": {},
   "source": [
    "Regresson"
   ]
  },
  {
   "cell_type": "code",
   "execution_count": 76,
   "metadata": {},
   "outputs": [
    {
     "name": "stdout",
     "output_type": "stream",
     "text": [
      "User-ID                           int64\n",
      "Year-Of-Publication               int64\n",
      "Book-Author-Encode                int64\n",
      "Book-Publisher-Encode             int64\n",
      "Year-Of-Publication-Bin-Encode    int64\n",
      "User-Age                          int64\n",
      "User-City_Encoded                 int64\n",
      "User-State_Encoded                int64\n",
      "User-Country_Encoded              int64\n",
      "dtype: object\n",
      "Linear Regression Cross-Validation RMSE Scores:\n",
      "[1.78638705 1.75202034 1.77255042 1.78190649 1.81757841]\n",
      "Linear Regression Mean RMSE: 1.7820885424774655\n",
      "Linear Regression Cross-Validation R^2 Scores:\n",
      "[0.00835017 0.00592485 0.00797039 0.00273963 0.00391927]\n",
      "Linear Regression Mean R^2: 0.005780863140058235\n"
     ]
    }
   ],
   "source": [
    "x = books_df.drop(columns=['ISBN', 'Book-Rating', 'Rating-Category', 'Book-Title', 'Book-Author', 'Book-Publisher', 'Year-Of-Publication-Bin', 'User-City', 'User-State', 'User-Country', 'User-Age-Bin'])\n",
    "y = books_df['Book-Rating']\n",
    "\n",
    "x_train, x_test, y_train, y_test = train_test_split(x, y, test_size = 0.2, random_state = 42)\n",
    "\n",
    "print(x.dtypes)\n",
    "\n",
    "# Compute MSE and R2 of linear regresson\n",
    "linear_reg= LinearRegression()\n",
    "linear_scores = cross_val_score(linear_reg, x, y, cv= 5, scoring= 'neg_mean_squared_error')\n",
    "linear_r2_scores = cross_val_score(linear_reg, x ,y, cv=5, scoring = 'r2')\n",
    "linear_rmse_scores= (-linear_scores)**0.5\n",
    "\n",
    "print('Linear Regression Cross-Validation RMSE Scores:')\n",
    "print(linear_rmse_scores)\n",
    "print('Linear Regression Mean RMSE:', linear_rmse_scores.mean())\n",
    "print('Linear Regression Cross-Validation R^2 Scores:')\n",
    "print(linear_r2_scores)\n",
    "print('Linear Regression Mean R^2:', linear_r2_scores.mean())"
   ]
  },
  {
   "cell_type": "code",
   "execution_count": 77,
   "metadata": {},
   "outputs": [
    {
     "name": "stdout",
     "output_type": "stream",
     "text": [
      "Decision Tree Regression Cross-Validation RMsE Scores:\n",
      "[2.75583279 2.5039367  2.52343331 2.52271318 2.66798267]\n",
      "Decision Tree Regression Mean RMSE: 2.5947797299413082\n",
      "Decision Tree Regression Cross-Validation R^2 Scores:\n",
      "[-1.36000512 -1.03042814 -1.01053251 -0.9988237  -1.14621999]\n",
      "Decision Tree Regression Mean R^2: -1.1092018929514853\n"
     ]
    }
   ],
   "source": [
    "# Initialize Decision Tree Regression model\n",
    "dt_reg= DecisionTreeRegressor(random_state=42)\n",
    "\n",
    "# Cross-validation for Decision Tree Regression\n",
    "dt_scores = cross_val_score(dt_reg, x, y, cv=5,scoring='neg_mean_squared_error')\n",
    "dt_r2_scores =cross_val_score(dt_reg, x, y, cv=5,scoring='r2')\n",
    "dt_rmse_scores =(-dt_scores)**0.5\n",
    "print('Decision Tree Regression Cross-Validation RMsE Scores:')\n",
    "print(dt_rmse_scores)\n",
    "print('Decision Tree Regression Mean RMSE:', dt_rmse_scores.mean())\n",
    "print('Decision Tree Regression Cross-Validation R^2 Scores:')\n",
    "print(dt_r2_scores)\n",
    "print('Decision Tree Regression Mean R^2:', dt_r2_scores.mean())"
   ]
  }
 ],
 "metadata": {
  "kernelspec": {
   "display_name": "Python 3",
   "language": "python",
   "name": "python3"
  },
  "language_info": {
   "codemirror_mode": {
    "name": "ipython",
    "version": 3
   },
   "file_extension": ".py",
   "mimetype": "text/x-python",
   "name": "python",
   "nbconvert_exporter": "python",
   "pygments_lexer": "ipython3",
   "version": "3.11.7"
  }
 },
 "nbformat": 4,
 "nbformat_minor": 2
}

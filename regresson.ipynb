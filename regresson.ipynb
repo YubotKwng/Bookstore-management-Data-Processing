{
 "cells": [
  {
   "cell_type": "code",
   "execution_count": 25,
   "metadata": {},
   "outputs": [],
   "source": [
    "import pandas as pd\n",
    "\n",
    "books_df = pd.read_csv('Book&rating.csv')"
   ]
  },
  {
   "cell_type": "code",
   "execution_count": 26,
   "metadata": {},
   "outputs": [],
   "source": [
    "from sklearn.model_selection import train_test_split\n",
    "from sklearn.linear_model import LinearRegression\n",
    "from sklearn.tree import DecisionTreeRegressor\n",
    "from sklearn.metrics import mean_squared_error, mean_absolute_error, r2_score\n",
    "from sklearn.model_selection import cross_val_score\n",
    "import matplotlib.pyplot as plt"
   ]
  },
  {
   "cell_type": "code",
   "execution_count": 27,
   "metadata": {},
   "outputs": [],
   "source": [
    "subsample_books = books_df.sample(n=20,random_state=42)"
   ]
  },
  {
   "cell_type": "markdown",
   "metadata": {},
   "source": [
    "Make Rating Category"
   ]
  },
  {
   "cell_type": "code",
   "execution_count": 28,
   "metadata": {},
   "outputs": [
    {
     "data": {
      "image/png": "[encoded data removed]",
      "text/plain": [
       "<Figure size 640x480 with 1 Axes>"
      ]
     },
     "metadata": {},
     "output_type": "display_data"
    },
    {
     "name": "stdout",
     "output_type": "stream",
     "text": [
      "        User-ID        ISBN  Book-Rating  \\\n",
      "107209    41841  0140287442            6   \n",
      "127762    22022  0812694333            4   \n",
      "45624     37644  006092988X           10   \n",
      "165014    76151  0671737791           10   \n",
      "145873   108405  0399149392            8   \n",
      "\n",
      "                                     Book-Title    Book-Author  \\\n",
      "107209                           dreamed africa  kuki gallmann   \n",
      "127762              simpson philosophy oh homer  william irwin   \n",
      "45624                       tree grows brooklyn    betty smith   \n",
      "165014                                    bride  julie garwood   \n",
      "145873  chesapeake blue quinn brother hardcover    nora robert   \n",
      "\n",
      "        Year-Of-Publication                 Book-Publisher  \\\n",
      "107209                 2000                   penguin book   \n",
      "127762                 2001  open court publishing company   \n",
      "45624                  1998                      perennial   \n",
      "165014                 1991                    pocket star   \n",
      "145873                 2002        putnam publishing group   \n",
      "\n",
      "       Year-Of-Publication-Bin  Book-Author-Encode  Book-Publisher-Encode  \\\n",
      "107209            [2000, 2020)                3574                    860   \n",
      "127762            [2000, 2020)                6357                    819   \n",
      "45624             [1980, 2000)                 647                    878   \n",
      "165014            [1980, 2000)                3310                    916   \n",
      "145873            [2000, 2020)                4684                    954   \n",
      "\n",
      "        Year-Of-Publication-Bin-Encode Rating-Category  \n",
      "107209                               5               1  \n",
      "127762                               5               1  \n",
      "45624                                4               5  \n",
      "165014                               4               5  \n",
      "145873                               5               3  \n"
     ]
    }
   ],
   "source": [
    "subsample_books['Rating-Category'] = pd.cut(subsample_books['Book-Rating'], \n",
    "                                    bins=[0, 6, 7, 8, 9,10], \n",
    "                                    labels=[1, 2, 3, 4, 5], \n",
    "                                    right=True)\n",
    "rating_counts = subsample_books['Rating-Category'].value_counts().sort_index()\n",
    "rating_counts.plot(kind='bar')\n",
    "# Set plot title and labels\n",
    "plt.title('Frequency Distribution of Rating categories')\n",
    "plt.xlabel('Rating category')\n",
    "plt.ylabel('Frequency')\n",
    "# Display the plot\n",
    "plt.show()\n",
    "# Display the updated DataFrame\n",
    "print(subsample_books.head())"
   ]
  },
  {
   "cell_type": "markdown",
   "metadata": {},
   "source": [
    "Regresson"
   ]
  },
  {
   "cell_type": "code",
   "execution_count": 33,
   "metadata": {},
   "outputs": [
    {
     "name": "stdout",
     "output_type": "stream",
     "text": [
      "        User-ID  Year-Of-Publication  Book-Author-Encode  \\\n",
      "107209    41841                 2000                3574   \n",
      "127762    22022                 2001                6357   \n",
      "45624     37644                 1998                 647   \n",
      "165014    76151                 1991                3310   \n",
      "145873   108405                 2002                4684   \n",
      "19297    135703                 2002                 489   \n",
      "63644    223455                 2001                5762   \n",
      "104058    47316                 1995                 313   \n",
      "195571   213312                 1988                 821   \n",
      "164657   100846                 1999                4736   \n",
      "42429     26540                 1997                5155   \n",
      "74770    223566                 1994                5762   \n",
      "91188     28133                 1996                4239   \n",
      "107559   168245                 1997                3245   \n",
      "132882    59172                 1988                5670   \n",
      "113407   266855                 1998                 364   \n",
      "70819     33862                 2000                6132   \n",
      "37416      8454                 2002                 516   \n",
      "23274    184904                 1993                 364   \n",
      "160348    27875                 1997                2589   \n",
      "\n",
      "        Book-Publisher-Encode  Year-Of-Publication-Bin-Encode  \n",
      "107209                    860                               5  \n",
      "127762                    819                               5  \n",
      "45624                     878                               4  \n",
      "165014                    916                               4  \n",
      "145873                    954                               5  \n",
      "19297                     192                               5  \n",
      "63644                     973                               5  \n",
      "104058                   1048                               4  \n",
      "195571                   1076                               4  \n",
      "164657                    111                               4  \n",
      "42429                     878                               4  \n",
      "74770                    1081                               4  \n",
      "91188                     913                               4  \n",
      "107559                    913                               4  \n",
      "132882                   1277                               4  \n",
      "113407                    111                               4  \n",
      "70819                     639                               5  \n",
      "37416                     831                               5  \n",
      "23274                     111                               4  \n",
      "160348                    551                               4  \n",
      "Linear Regression Cross-Validation RMSE Scores:\n",
      "[3.06328441 3.51220781 1.47250143 2.87751414 1.0197752 ]\n",
      "Linear Regression Mean RMSE: 2.3890565963604473\n",
      "Linear Regression Cross-Validation R^2 Scores:\n",
      "[-0.39017946 -4.63913312 -2.15383341 -5.97270535 -0.51264212]\n",
      "Linear Regression Mean R^2: -2.733698690458033\n"
     ]
    }
   ],
   "source": [
    "x = subsample_books.drop(columns=['ISBN', 'Book-Rating', 'Rating-Category', 'Book-Title', 'Book-Author', 'Book-Publisher', 'Year-Of-Publication-Bin'])\n",
    "y = subsample_books['Book-Rating']\n",
    "\n",
    "x_train, x_test, y_train, y_test = train_test_split(x, y, test_size = 0.2, random_state = 42)\n",
    "\n",
    "# print(x.dtypes)\n",
    "# print('x=', y)\n",
    "print(x)\n",
    "\n",
    "linear_reg= LinearRegression()\n",
    "linear_scores = cross_val_score(linear_reg, x, y, cv= 5, scoring= 'neg_mean_squared_error')\n",
    "linear_r2_scores = cross_val_score(linear_reg, x ,y, cv=5, scoring = 'r2')\n",
    "linear_rmse_scores= (-linear_scores)**0.5\n",
    "\n",
    "print('Linear Regression Cross-Validation RMSE Scores:')\n",
    "print(linear_rmse_scores)\n",
    "print('Linear Regression Mean RMSE:', linear_rmse_scores.mean())\n",
    "print('Linear Regression Cross-Validation R^2 Scores:')\n",
    "print(linear_r2_scores)\n",
    "print('Linear Regression Mean R^2:', linear_r2_scores.mean())"
   ]
  },
  {
   "cell_type": "code",
   "execution_count": 30,
   "metadata": {},
   "outputs": [
    {
     "name": "stdout",
     "output_type": "stream",
     "text": [
      "Decision Tree Regression Cross-Validation RMsE Scores:\n",
      "[3.39116499 3.082207   1.22474487 2.44948974 2.73861279]\n",
      "Decision Tree Regression Mean RMSE: 2.577243878949544\n",
      "Decision Tree Regression Cross-Validation R^2 Scores:\n",
      "[-0.7037037  -3.34285714 -1.18181818 -4.05263158 -9.90909091]\n",
      "Decision Tree Regression Mean R^2: -3.8380203032834608\n"
     ]
    }
   ],
   "source": [
    "# Initialize Decision Tree Regression model\n",
    "dt_reg= DecisionTreeRegressor(random_state=42)\n",
    "\n",
    "# Cross-validation for Decision Tree Regression\n",
    "dt_scores = cross_val_score(dt_reg, x, y, cv=5,scoring='neg_mean_squared_error')\n",
    "dt_r2_scores =cross_val_score(dt_reg, x, y, cv=5,scoring='r2')\n",
    "dt_rmse_scores =(-dt_scores)**0.5\n",
    "print('Decision Tree Regression Cross-Validation RMsE Scores:')\n",
    "print(dt_rmse_scores)\n",
    "print('Decision Tree Regression Mean RMSE:', dt_rmse_scores.mean())\n",
    "print('Decision Tree Regression Cross-Validation R^2 Scores:')\n",
    "print(dt_r2_scores)\n",
    "print('Decision Tree Regression Mean R^2:', dt_r2_scores.mean())"
   ]
  }
 ],
 "metadata": {
  "kernelspec": {
   "display_name": "Python 3",
   "language": "python",
   "name": "python3"
  },
  "language_info": {
   "codemirror_mode": {
    "name": "ipython",
    "version": 3
   },
   "file_extension": ".py",
   "mimetype": "text/x-python",
   "name": "python",
   "nbconvert_exporter": "python",
   "pygments_lexer": "ipython3",
   "version": "3.11.7"
  }
 },
 "nbformat": 4,
 "nbformat_minor": 2
}
